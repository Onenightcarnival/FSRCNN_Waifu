{
 "cells": [
  {
   "cell_type": "code",
   "execution_count": 2,
   "metadata": {
    "scrolled": true
   },
   "outputs": [],
   "source": [
    "# require tensorflow 1.15\n",
    "import tensorflow as tf\n",
    "import keras\n",
    "import cv2\n",
    "import numpy as np\n",
    "\n",
    "# load model\n",
    "model = tf.keras.models.load_model(\"FSRCNN_Waifu.h5\")\n",
    "\n",
    "def upscale(images):\n",
    "    for i in images:\n",
    "        buff = []\n",
    "        img = cv2.imread(i)\n",
    "        img = np.asarray(img)\n",
    "        h, l = img.shape[0], img.shape[1]\n",
    "        buff.append(img)\n",
    "        buff = np.asarray(buff)\n",
    "        raw = model.predict(buff)[0]\n",
    "        cv2.imwrite(\"2x up no denoise \" + i, raw)\n",
    "        dst = cv2.fastNlMeansDenoisingColored(cv2.imread(\"2x up no denoise \" + i), None, 10, 10, 7, 21)\n",
    "        cv2.imwrite(\"2x up \" + i, dst)\n",
    "\n",
    "# customize your input imgs\n",
    "upscale([\"input.png\"])"
   ]
  },
  {
   "cell_type": "code",
   "execution_count": null,
   "metadata": {},
   "outputs": [],
   "source": []
  }
 ],
 "metadata": {
  "kernelspec": {
   "display_name": "Python 3",
   "language": "python",
   "name": "python3"
  },
  "language_info": {
   "codemirror_mode": {
    "name": "ipython",
    "version": 3
   },
   "file_extension": ".py",
   "mimetype": "text/x-python",
   "name": "python",
   "nbconvert_exporter": "python",
   "pygments_lexer": "ipython3",
   "version": "3.8.5"
  }
 },
 "nbformat": 4,
 "nbformat_minor": 2
}
