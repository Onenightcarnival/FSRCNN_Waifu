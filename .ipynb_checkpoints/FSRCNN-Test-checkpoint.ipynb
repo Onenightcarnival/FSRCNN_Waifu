{
 "cells": [
  {
   "cell_type": "code",
   "execution_count": null,
   "metadata": {
    "scrolled": true
   },
   "outputs": [],
   "source": [
    "import tensorflow as tf\n",
    "import keras\n",
    "import cv2\n",
    "import numpy as np\n",
    "from matplotlib import pyplot as plt\n",
    "\n",
    "\n",
    "model = tf.keras.models.load_model(\"FSRCNN_Waifu.h5\")\n",
    "\n",
    "def upscale(images):\n",
    "    for i in images:\n",
    "        buff = []\n",
    "        img = cv2.imread(i)\n",
    "        img = np.asarray(img)\n",
    "        h, l = img.shape[0], img.shape[1]\n",
    "        buff.append(img)\n",
    "        buff = np.asarray(buff)\n",
    "        res = model.predict(buff)[0]\n",
    "        cv2.imwrite(\"2x up no denoise \" + i, res)\n",
    "        dst = cv2.fastNlMeansDenoisingColored(img, None, 10, 10, 7, 21)\n",
    "        cv2.imwrite(\"2x up \" + i, dst)\n",
    "#         plt.subplot(121),plt.imshow(img)\n",
    "#         plt.subplot(122),plt.imshow(dst)\n",
    "#         plt.show()\n",
    "\n",
    "upscale([\"input.png\"])"
   ]
  },
  {
   "cell_type": "code",
   "execution_count": null,
   "metadata": {},
   "outputs": [],
   "source": []
  }
 ],
 "metadata": {
  "kernelspec": {
   "display_name": "Python 3",
   "language": "python",
   "name": "python3"
  },
  "language_info": {
   "codemirror_mode": {
    "name": "ipython",
    "version": 3
   },
   "file_extension": ".py",
   "mimetype": "text/x-python",
   "name": "python",
   "nbconvert_exporter": "python",
   "pygments_lexer": "ipython3",
   "version": "3.6.7"
  }
 },
 "nbformat": 4,
 "nbformat_minor": 2
}
